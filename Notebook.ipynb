{
 "cells": [
  {
   "cell_type": "markdown",
   "metadata": {},
   "source": [
    "Phase 4 Project Notebook by Ryan S. Chung"
   ]
  },
  {
   "cell_type": "markdown",
   "metadata": {},
   "source": [
    "# Introduction"
   ]
  },
  {
   "cell_type": "code",
   "execution_count": 1,
   "metadata": {},
   "outputs": [],
   "source": [
    "import pandas as pd\n",
    "import numpy as np\n",
    "import os , shutil\n",
    "import glob"
   ]
  },
  {
   "cell_type": "code",
   "execution_count": 2,
   "metadata": {},
   "outputs": [],
   "source": [
    "import cv2\n",
    "import matplotlib.image as mpimg"
   ]
  },
  {
   "cell_type": "code",
   "execution_count": 3,
   "metadata": {},
   "outputs": [],
   "source": [
    "import matplotlib.pyplot as plt\n",
    "%matplotlib inline\n",
    "import keras\n",
    "from sklearn.model_selection import train_test_split"
   ]
  },
  {
   "cell_type": "code",
   "execution_count": 4,
   "metadata": {},
   "outputs": [],
   "source": [
    "from keras.models import Sequential\n",
    "from keras.layers import Dense\n",
    "import matplotlib.image as mpimg"
   ]
  },
  {
   "cell_type": "code",
   "execution_count": 5,
   "metadata": {},
   "outputs": [],
   "source": [
    "import time\n",
    "import matplotlib.pyplot as plt\n",
    "import scipy\n",
    "from PIL import Image\n",
    "from scipy import ndimage\n",
    "from keras.preprocessing.image import ImageDataGenerator, array_to_img, img_to_array, load_img"
   ]
  },
  {
   "cell_type": "code",
   "execution_count": 6,
   "metadata": {},
   "outputs": [],
   "source": [
    "from matplotlib import image\n",
    "from matplotlib import pyplot\n",
    "import tensorflow as tf\n",
    "from tensorflow import keras\n",
    "from tensorflow.keras import layers"
   ]
  },
  {
   "cell_type": "markdown",
   "metadata": {},
   "source": [
    "# Initial MLP Creation"
   ]
  },
  {
   "cell_type": "code",
   "execution_count": 7,
   "metadata": {
    "scrolled": true
   },
   "outputs": [],
   "source": [
    "NORMAL = glob.glob(\"C:\\\\Users\\\\rychu\\\\Desktop\\\\2021\\\\FLT\\\\P4-Project\\\\chest_xray\\\\train\\\\NORMAL\\\\*.jpeg\")\n",
    "PNEUMONIA = glob.glob(\"C:\\\\Users\\\\rychu\\\\Desktop\\\\2021\\\\FLT\\\\P4-Project\\\\chest_xray\\\\train\\\\PNEUMONIA\\\\*jpeg\")"
   ]
  },
  {
   "cell_type": "code",
   "execution_count": 8,
   "metadata": {},
   "outputs": [],
   "source": [
    "data = []\n",
    "labels = []"
   ]
  },
  {
   "cell_type": "code",
   "execution_count": 9,
   "metadata": {},
   "outputs": [],
   "source": [
    "for i in NORMAL:   \n",
    "    image= tf.keras.preprocessing.image.load_img(i, color_mode='grayscale', target_size= (64,64))\n",
    "    image=np.array(image)\n",
    "    data.append(image)\n",
    "    labels.append(0)\n",
    "    \n",
    "for i in PNEUMONIA:   \n",
    "    image= tf.keras.preprocessing.image.load_img(i, color_mode='grayscale', target_size= (64,64))\n",
    "    image=np.array(image)\n",
    "    data.append(image)\n",
    "    labels.append(1)"
   ]
  },
  {
   "cell_type": "code",
   "execution_count": 10,
   "metadata": {},
   "outputs": [],
   "source": [
    "data = np.array(data)\n",
    "labels = np.array(labels)\n",
    "\n",
    "X_train, X_test, y_train, y_test = train_test_split(data, labels, test_size=0.2, random_state=42)"
   ]
  },
  {
   "cell_type": "code",
   "execution_count": 11,
   "metadata": {},
   "outputs": [
    {
     "data": {
      "text/plain": [
       "<matplotlib.image.AxesImage at 0x1f6d0179550>"
      ]
     },
     "metadata": {},
     "output_type": "display_data"
    },
    {
     "name": "stdout",
     "output_type": "stream",
     "text": [
      "Label: 0\n"
     ]
    },
    {
     "data": {
      "image/png": "[encoded data removed]",
      "text/plain": [
       "<Figure size 432x288 with 1 Axes>"
      ]
     },
     "metadata": {
      "needs_background": "light"
     },
     "output_type": "display_data"
    }
   ],
   "source": [
    "sample_image = X_train[0]\n",
    "sample_label = y_train[0]\n",
    "display(plt.imshow(sample_image))\n",
    "print('Label: {}'.format(sample_label))"
   ]
  },
  {
   "cell_type": "code",
   "execution_count": 12,
   "metadata": {},
   "outputs": [
    {
     "data": {
      "text/plain": [
       "array([[ 47,  58,  53, ...,  93,  92,  84],\n",
       "       [ 37,  60,  63, ..., 102,  99,  94],\n",
       "       [ 43,  54,  63, ..., 119, 108,  86],\n",
       "       ...,\n",
       "       [ 90, 144, 124, ..., 154, 111,   0],\n",
       "       [ 73, 147, 154, ..., 160, 107,   0],\n",
       "       [ 72, 136, 152, ..., 175,  81,   0]], dtype=uint8)"
      ]
     },
     "execution_count": 12,
     "metadata": {},
     "output_type": "execute_result"
    }
   ],
   "source": [
    "sample_image"
   ]
  },
  {
   "cell_type": "code",
   "execution_count": 13,
   "metadata": {},
   "outputs": [
    {
     "name": "stdout",
     "output_type": "stream",
     "text": [
      "(4172, 64, 64)\n"
     ]
    },
    {
     "data": {
      "text/plain": [
       "(1044, 64, 64)"
      ]
     },
     "execution_count": 13,
     "metadata": {},
     "output_type": "execute_result"
    }
   ],
   "source": [
    "print(X_train.shape)\n",
    "X_test.shape"
   ]
  },
  {
   "cell_type": "code",
   "execution_count": 14,
   "metadata": {},
   "outputs": [],
   "source": [
    "X_train = X_train.reshape(4172, 4096).astype('float')\n",
    "X_test = X_test.reshape(1044, 4096).astype('float')"
   ]
  },
  {
   "cell_type": "code",
   "execution_count": 15,
   "metadata": {},
   "outputs": [
    {
     "name": "stdout",
     "output_type": "stream",
     "text": [
      "(4172, 4096)\n"
     ]
    },
    {
     "data": {
      "text/plain": [
       "(1044, 4096)"
      ]
     },
     "execution_count": 15,
     "metadata": {},
     "output_type": "execute_result"
    }
   ],
   "source": [
    "print(X_train.shape)\n",
    "X_test.shape"
   ]
  },
  {
   "cell_type": "code",
   "execution_count": 16,
   "metadata": {},
   "outputs": [],
   "source": [
    "X_train /= 255.\n",
    "X_test /= 255."
   ]
  },
  {
   "cell_type": "code",
   "execution_count": 17,
   "metadata": {},
   "outputs": [
    {
     "data": {
      "text/plain": [
       "array([0, 1])"
      ]
     },
     "execution_count": 17,
     "metadata": {},
     "output_type": "execute_result"
    }
   ],
   "source": [
    "y_train[:2]"
   ]
  },
  {
   "cell_type": "code",
   "execution_count": 18,
   "metadata": {},
   "outputs": [],
   "source": [
    "y_train = keras.utils.to_categorical(y_train, 2)\n",
    "y_test = keras.utils.to_categorical(y_test, 2)"
   ]
  },
  {
   "cell_type": "code",
   "execution_count": 19,
   "metadata": {},
   "outputs": [
    {
     "data": {
      "text/plain": [
       "array([1., 0.], dtype=float32)"
      ]
     },
     "execution_count": 19,
     "metadata": {},
     "output_type": "execute_result"
    }
   ],
   "source": [
    "y_train[0]"
   ]
  },
  {
   "cell_type": "code",
   "execution_count": 20,
   "metadata": {},
   "outputs": [],
   "source": [
    "Model_1 = Sequential()\n",
    "Model_1.add(Dense(64, activation = 'tanh', input_shape = (4096,)))\n",
    "Model_1.add(Dense(2, activation = 'softmax'))"
   ]
  },
  {
   "cell_type": "code",
   "execution_count": 21,
   "metadata": {},
   "outputs": [],
   "source": [
    "Model_1.compile(loss = 'categorical_crossentropy', optimizer = 'sgd', metrics = ['acc'])"
   ]
  },
  {
   "cell_type": "code",
   "execution_count": 22,
   "metadata": {},
   "outputs": [
    {
     "name": "stdout",
     "output_type": "stream",
     "text": [
      "Model: \"sequential\"\n",
      "_________________________________________________________________\n",
      "Layer (type)                 Output Shape              Param #   \n",
      "=================================================================\n",
      "dense (Dense)                (None, 64)                262208    \n",
      "_________________________________________________________________\n",
      "dense_1 (Dense)              (None, 2)                 130       \n",
      "=================================================================\n",
      "Total params: 262,338\n",
      "Trainable params: 262,338\n",
      "Non-trainable params: 0\n",
      "_________________________________________________________________\n"
     ]
    }
   ],
   "source": [
    "Model_1.summary()"
   ]
  },
  {
   "cell_type": "code",
   "execution_count": 23,
   "metadata": {
    "scrolled": false
   },
   "outputs": [
    {
     "name": "stdout",
     "output_type": "stream",
     "text": [
      "Epoch 1/12\n",
      "66/66 [==============================] - 0s 4ms/step - loss: 0.5561 - acc: 0.7529 - val_loss: 0.5662 - val_acc: 0.7098\n",
      "Epoch 2/12\n",
      "66/66 [==============================] - 0s 2ms/step - loss: 0.3878 - acc: 0.8334 - val_loss: 0.4296 - val_acc: 0.7653\n",
      "Epoch 3/12\n",
      "66/66 [==============================] - 0s 2ms/step - loss: 0.3285 - acc: 0.8627 - val_loss: 0.3982 - val_acc: 0.8008\n",
      "Epoch 4/12\n",
      "66/66 [==============================] - 0s 2ms/step - loss: 0.2557 - acc: 0.8943 - val_loss: 0.2607 - val_acc: 0.8985\n",
      "Epoch 5/12\n",
      "66/66 [==============================] - 0s 2ms/step - loss: 0.2309 - acc: 0.9106 - val_loss: 0.3213 - val_acc: 0.8467\n",
      "Epoch 6/12\n",
      "66/66 [==============================] - 0s 2ms/step - loss: 0.2371 - acc: 0.9036 - val_loss: 0.2913 - val_acc: 0.8678\n",
      "Epoch 7/12\n",
      "66/66 [==============================] - 0s 2ms/step - loss: 0.1949 - acc: 0.9219 - val_loss: 0.4719 - val_acc: 0.7864\n",
      "Epoch 8/12\n",
      "66/66 [==============================] - 0s 2ms/step - loss: 0.1897 - acc: 0.9240 - val_loss: 1.4810 - val_acc: 0.4224\n",
      "Epoch 9/12\n",
      "66/66 [==============================] - 0s 2ms/step - loss: 0.1914 - acc: 0.9281 - val_loss: 0.1676 - val_acc: 0.9387\n",
      "Epoch 10/12\n",
      "66/66 [==============================] - 0s 2ms/step - loss: 0.1646 - acc: 0.9365 - val_loss: 0.1554 - val_acc: 0.9282\n",
      "Epoch 11/12\n",
      "66/66 [==============================] - 0s 2ms/step - loss: 0.1591 - acc: 0.9386 - val_loss: 0.2106 - val_acc: 0.9157\n",
      "Epoch 12/12\n",
      "66/66 [==============================] - 0s 2ms/step - loss: 0.1538 - acc: 0.9415 - val_loss: 0.2516 - val_acc: 0.8975\n"
     ]
    }
   ],
   "source": [
    "results_1 = Model_1.fit(X_train, y_train, epochs = 12, batch_size = 64, validation_data = (X_test, y_test))"
   ]
  },
  {
   "cell_type": "code",
   "execution_count": 24,
   "metadata": {},
   "outputs": [],
   "source": [
    "def visualize_training_results(results):\n",
    "    \n",
    "    history = results.history\n",
    "    plt.figure()\n",
    "    plt.plot(history['val_loss'])\n",
    "    plt.plot(history['loss'])\n",
    "    plt.legend(['val_loss', 'loss'])\n",
    "    plt.title('Loss')\n",
    "    plt.xlabel('Epochs')\n",
    "    plt.ylabel('Loss')\n",
    "    plt.show()\n",
    "    \n",
    "    plt.figure()\n",
    "    plt.plot(history['val_acc'])\n",
    "    plt.plot(history['acc'])\n",
    "    plt.legend(['val_acc', 'acc'])\n",
    "    plt.title('Accuracy')\n",
    "    plt.xlabel('Epochs')\n",
    "    plt.ylabel('Accuracy')\n",
    "    plt.show()"
   ]
  },
  {
   "cell_type": "code",
   "execution_count": 25,
   "metadata": {},
   "outputs": [
    {
     "data": {
      "image/png": "[encoded data removed]",
      "text/plain": [
       "<Figure size 432x288 with 1 Axes>"
      ]
     },
     "metadata": {
      "needs_background": "light"
     },
     "output_type": "display_data"
    },
    {
     "data": {
      "image/png": "[encoded data removed]",
      "text/plain": [
       "<Figure size 432x288 with 1 Axes>"
      ]
     },
     "metadata": {
      "needs_background": "light"
     },
     "output_type": "display_data"
    }
   ],
   "source": [
    "visualize_training_results(results_1)"
   ]
  },
  {
   "cell_type": "code",
   "execution_count": 26,
   "metadata": {},
   "outputs": [],
   "source": [
    "Model_2 = Sequential()\n",
    "Model_2.add(Dense(64, activation='tanh', input_shape=(4096,)))\n",
    "Model_2.add(Dense(32, activation='tanh'))\n",
    "Model_2.add(Dense(2, activation='softmax'))"
   ]
  },
  {
   "cell_type": "code",
   "execution_count": 27,
   "metadata": {},
   "outputs": [
    {
     "name": "stdout",
     "output_type": "stream",
     "text": [
      "Model: \"sequential_1\"\n",
      "_________________________________________________________________\n",
      "Layer (type)                 Output Shape              Param #   \n",
      "=================================================================\n",
      "dense_2 (Dense)              (None, 64)                262208    \n",
      "_________________________________________________________________\n",
      "dense_3 (Dense)              (None, 32)                2080      \n",
      "_________________________________________________________________\n",
      "dense_4 (Dense)              (None, 2)                 66        \n",
      "=================================================================\n",
      "Total params: 264,354\n",
      "Trainable params: 264,354\n",
      "Non-trainable params: 0\n",
      "_________________________________________________________________\n"
     ]
    }
   ],
   "source": [
    "Model_2.summary()"
   ]
  },
  {
   "cell_type": "code",
   "execution_count": 28,
   "metadata": {},
   "outputs": [],
   "source": [
    "Model_2.compile(loss='categorical_crossentropy', optimizer='sgd', metrics=['acc'])"
   ]
  },
  {
   "cell_type": "code",
   "execution_count": 29,
   "metadata": {},
   "outputs": [
    {
     "name": "stdout",
     "output_type": "stream",
     "text": [
      "Epoch 1/12\n",
      "66/66 [==============================] - 0s 3ms/step - loss: 0.5031 - acc: 0.7639 - val_loss: 0.5928 - val_acc: 0.6743\n",
      "Epoch 2/12\n",
      "66/66 [==============================] - 0s 2ms/step - loss: 0.3706 - acc: 0.8442 - val_loss: 1.4688 - val_acc: 0.2807\n",
      "Epoch 3/12\n",
      "66/66 [==============================] - 0s 2ms/step - loss: 0.3186 - acc: 0.8739 - val_loss: 0.2409 - val_acc: 0.9186\n",
      "Epoch 4/12\n",
      "66/66 [==============================] - 0s 2ms/step - loss: 0.2620 - acc: 0.8957 - val_loss: 0.4048 - val_acc: 0.8084\n",
      "Epoch 5/12\n",
      "66/66 [==============================] - 0s 2ms/step - loss: 0.2676 - acc: 0.8859 - val_loss: 0.4948 - val_acc: 0.7854\n",
      "Epoch 6/12\n",
      "66/66 [==============================] - 0s 2ms/step - loss: 0.2290 - acc: 0.9099 - val_loss: 0.1812 - val_acc: 0.9243\n",
      "Epoch 7/12\n",
      "66/66 [==============================] - 0s 2ms/step - loss: 0.1929 - acc: 0.9233 - val_loss: 0.2084 - val_acc: 0.9243\n",
      "Epoch 8/12\n",
      "66/66 [==============================] - 0s 2ms/step - loss: 0.1846 - acc: 0.9238 - val_loss: 0.1914 - val_acc: 0.9215\n",
      "Epoch 9/12\n",
      "66/66 [==============================] - 0s 2ms/step - loss: 0.1738 - acc: 0.9317 - val_loss: 0.2731 - val_acc: 0.8870\n",
      "Epoch 10/12\n",
      "66/66 [==============================] - 0s 2ms/step - loss: 0.1770 - acc: 0.9338 - val_loss: 0.1522 - val_acc: 0.9406\n",
      "Epoch 11/12\n",
      "66/66 [==============================] - 0s 2ms/step - loss: 0.1651 - acc: 0.9372 - val_loss: 0.1688 - val_acc: 0.9406\n",
      "Epoch 12/12\n",
      "66/66 [==============================] - 0s 2ms/step - loss: 0.1624 - acc: 0.9338 - val_loss: 0.4068 - val_acc: 0.8410\n"
     ]
    }
   ],
   "source": [
    "results_2 = Model_2.fit(X_train, y_train, batch_size=64, epochs=12, validation_data=(X_test, y_test))"
   ]
  },
  {
   "cell_type": "code",
   "execution_count": 30,
   "metadata": {},
   "outputs": [],
   "source": [
    "def visualize_training_results(results):\n",
    "    history = results.history\n",
    "    plt.figure()\n",
    "    plt.plot(history['val_loss'])\n",
    "    plt.plot(history['loss'])\n",
    "    plt.legend(['val_loss', 'loss'])\n",
    "    plt.title('Loss')\n",
    "    plt.xlabel('Epochs')\n",
    "    plt.ylabel('Loss')\n",
    "    plt.show()\n",
    "    \n",
    "    plt.figure()\n",
    "    plt.plot(history['val_acc'])\n",
    "    plt.plot(history['acc'])\n",
    "    plt.legend(['val_acc', 'acc'])\n",
    "    plt.title('Accuracy')\n",
    "    plt.xlabel('Epochs')\n",
    "    plt.ylabel('Accuracy')\n",
    "    plt.show()"
   ]
  },
  {
   "cell_type": "code",
   "execution_count": 31,
   "metadata": {},
   "outputs": [
    {
     "data": {
      "image/png": "[encoded data removed]",
      "text/plain": [
       "<Figure size 432x288 with 1 Axes>"
      ]
     },
     "metadata": {
      "needs_background": "light"
     },
     "output_type": "display_data"
    },
    {
     "data": {
      "image/png": "[encoded data removed]",
      "text/plain": [
       "<Figure size 432x288 with 1 Axes>"
      ]
     },
     "metadata": {
      "needs_background": "light"
     },
     "output_type": "display_data"
    }
   ],
   "source": [
    "visualize_training_results(results_2)"
   ]
  },
  {
   "cell_type": "code",
   "execution_count": 32,
   "metadata": {},
   "outputs": [],
   "source": [
    "Model_3 = Sequential()\n",
    "Model_3.add(Dense(64, activation='relu', input_shape=(4096,)))\n",
    "Model_3.add(Dense(32, activation='relu'))\n",
    "Model_3.add(Dense(2, activation='softmax'))"
   ]
  },
  {
   "cell_type": "code",
   "execution_count": 33,
   "metadata": {},
   "outputs": [
    {
     "name": "stdout",
     "output_type": "stream",
     "text": [
      "Model: \"sequential_2\"\n",
      "_________________________________________________________________\n",
      "Layer (type)                 Output Shape              Param #   \n",
      "=================================================================\n",
      "dense_5 (Dense)              (None, 64)                262208    \n",
      "_________________________________________________________________\n",
      "dense_6 (Dense)              (None, 32)                2080      \n",
      "_________________________________________________________________\n",
      "dense_7 (Dense)              (None, 2)                 66        \n",
      "=================================================================\n",
      "Total params: 264,354\n",
      "Trainable params: 264,354\n",
      "Non-trainable params: 0\n",
      "_________________________________________________________________\n"
     ]
    }
   ],
   "source": [
    "Model_3.summary()"
   ]
  },
  {
   "cell_type": "code",
   "execution_count": 34,
   "metadata": {},
   "outputs": [],
   "source": [
    "Model_3.compile(loss='categorical_crossentropy', optimizer='sgd', metrics=['acc'])"
   ]
  },
  {
   "cell_type": "code",
   "execution_count": 35,
   "metadata": {},
   "outputs": [
    {
     "name": "stdout",
     "output_type": "stream",
     "text": [
      "Epoch 1/12\n",
      "66/66 [==============================] - 0s 3ms/step - loss: 0.4928 - acc: 0.7730 - val_loss: 0.3846 - val_acc: 0.7874\n",
      "Epoch 2/12\n",
      "66/66 [==============================] - 0s 2ms/step - loss: 0.4038 - acc: 0.8186 - val_loss: 0.6561 - val_acc: 0.6331\n",
      "Epoch 3/12\n",
      "66/66 [==============================] - 0s 2ms/step - loss: 0.3177 - acc: 0.8703 - val_loss: 0.3013 - val_acc: 0.8918\n",
      "Epoch 4/12\n",
      "66/66 [==============================] - 0s 2ms/step - loss: 0.2871 - acc: 0.8792 - val_loss: 0.2045 - val_acc: 0.9291\n",
      "Epoch 5/12\n",
      "66/66 [==============================] - 0s 2ms/step - loss: 0.2371 - acc: 0.9039 - val_loss: 0.4067 - val_acc: 0.8190\n",
      "Epoch 6/12\n",
      "66/66 [==============================] - 0s 2ms/step - loss: 0.2223 - acc: 0.9080 - val_loss: 0.2018 - val_acc: 0.9234\n",
      "Epoch 7/12\n",
      "66/66 [==============================] - 0s 2ms/step - loss: 0.2232 - acc: 0.9132 - val_loss: 0.2062 - val_acc: 0.9148\n",
      "Epoch 8/12\n",
      "66/66 [==============================] - 0s 2ms/step - loss: 0.1966 - acc: 0.9228 - val_loss: 0.1665 - val_acc: 0.9387\n",
      "Epoch 9/12\n",
      "66/66 [==============================] - 0s 2ms/step - loss: 0.1830 - acc: 0.9324 - val_loss: 0.1605 - val_acc: 0.9301\n",
      "Epoch 10/12\n",
      "66/66 [==============================] - 0s 2ms/step - loss: 0.1695 - acc: 0.9346 - val_loss: 0.4344 - val_acc: 0.8036\n",
      "Epoch 11/12\n",
      "66/66 [==============================] - 0s 2ms/step - loss: 0.1950 - acc: 0.9267 - val_loss: 0.1984 - val_acc: 0.9262\n",
      "Epoch 12/12\n",
      "66/66 [==============================] - 0s 2ms/step - loss: 0.1689 - acc: 0.9370 - val_loss: 0.1889 - val_acc: 0.9234\n"
     ]
    }
   ],
   "source": [
    "results_3 = Model_3.fit(X_train, y_train, epochs=12, batch_size=64, validation_data=(X_test, y_test))"
   ]
  },
  {
   "cell_type": "code",
   "execution_count": 36,
   "metadata": {
    "scrolled": false
   },
   "outputs": [
    {
     "data": {
      "image/png": "[encoded data removed]",
      "text/plain": [
       "<Figure size 432x288 with 1 Axes>"
      ]
     },
     "metadata": {
      "needs_background": "light"
     },
     "output_type": "display_data"
    },
    {
     "data": {
      "image/png": "[encoded data removed]",
      "text/plain": [
       "<Figure size 432x288 with 1 Axes>"
      ]
     },
     "metadata": {
      "needs_background": "light"
     },
     "output_type": "display_data"
    }
   ],
   "source": [
    "visualize_training_results(results_3)"
   ]
  },
  {
   "cell_type": "markdown",
   "metadata": {},
   "source": [
    "# Creation of CNN"
   ]
  },
  {
   "cell_type": "code",
   "execution_count": 37,
   "metadata": {},
   "outputs": [],
   "source": [
    "# Creating a Baseline CNN"
   ]
  },
  {
   "cell_type": "code",
   "execution_count": 38,
   "metadata": {},
   "outputs": [
    {
     "name": "stdout",
     "output_type": "stream",
     "text": [
      "Found 624 images belonging to 2 classes.\n",
      "Found 16 images belonging to 2 classes.\n",
      "Found 5216 images belonging to 2 classes.\n"
     ]
    }
   ],
   "source": [
    "test_generator = ImageDataGenerator(rescale=1./255).flow_from_directory(\n",
    "    \"C:\\\\Users\\\\rychu\\\\Desktop\\\\2021\\\\FLT\\\\P4-Project\\\\chest_xray\\\\test\",\n",
    "    target_size=(64, 64), batch_size = 180)\n",
    "\n",
    "val_generator = ImageDataGenerator(rescale=1./255).flow_from_directory(\n",
    "    \"C:\\\\Users\\\\rychu\\\\Desktop\\\\2021\\\\FLT\\\\P4-Project\\\\chest_xray\\\\val\",\n",
    "    target_size=(64, 64), batch_size = 200)\n",
    "\n",
    "train_generator = ImageDataGenerator(rescale=1./255).flow_from_directory(\n",
    "    \"C:\\\\Users\\\\rychu\\\\Desktop\\\\2021\\\\FLT\\\\P4-Project\\\\chest_xray\\\\train\",\n",
    "    target_size=(64, 64), batch_size = 200)"
   ]
  },
  {
   "cell_type": "code",
   "execution_count": 39,
   "metadata": {},
   "outputs": [],
   "source": [
    "# Creating the data sets\n",
    "\n",
    "train_images, train_labels = next(train_generator)\n",
    "test_images, test_labels = next(test_generator)\n",
    "val_images, val_labels = next(val_generator)"
   ]
  },
  {
   "cell_type": "code",
   "execution_count": 40,
   "metadata": {},
   "outputs": [
    {
     "name": "stdout",
     "output_type": "stream",
     "text": [
      "Number of training samples: 200\n",
      "Number of testing samples: 180\n",
      "Number of validation samples: 16\n",
      "train_images shape: (200, 64, 64, 3)\n",
      "train_labels shape: (200, 2)\n",
      "test_images shape: (180, 64, 64, 3)\n",
      "test_labels shape: (180, 2)\n",
      "val_images shape: (16, 64, 64, 3)\n",
      "val_labels shape: (16, 2)\n"
     ]
    }
   ],
   "source": [
    "# Explore your dataset again\n",
    "\n",
    "m_train = train_images.shape[0]\n",
    "num_px = train_images.shape[1]\n",
    "m_test = test_images.shape[0]\n",
    "m_val = val_images.shape[0]\n",
    "\n",
    "print (\"Number of training samples: \" + str(m_train))\n",
    "print (\"Number of testing samples: \" + str(m_test))\n",
    "print (\"Number of validation samples: \" + str(m_val))\n",
    "print (\"train_images shape: \" + str(train_images.shape))\n",
    "print (\"train_labels shape: \" + str(train_labels.shape))\n",
    "print (\"test_images shape: \" + str(test_images.shape))\n",
    "print (\"test_labels shape: \" + str(test_labels.shape))\n",
    "print (\"val_images shape: \" + str(val_images.shape))\n",
    "print (\"val_labels shape: \" + str(val_labels.shape))"
   ]
  },
  {
   "cell_type": "code",
   "execution_count": 41,
   "metadata": {},
   "outputs": [
    {
     "name": "stdout",
     "output_type": "stream",
     "text": [
      "(200, 12288)\n",
      "(180, 12288)\n",
      "(16, 12288)\n"
     ]
    }
   ],
   "source": [
    "train_img = train_images.reshape(train_images.shape[0], -1)\n",
    "test_img = test_images.reshape(test_images.shape[0], -1)\n",
    "val_img = val_images.reshape(val_images.shape[0], -1)\n",
    "\n",
    "print(train_img.shape)\n",
    "print(test_img.shape)\n",
    "print(val_img.shape)"
   ]
  },
  {
   "cell_type": "code",
   "execution_count": 42,
   "metadata": {},
   "outputs": [],
   "source": [
    "train_y = np.reshape(train_labels[:,0], (200,1))\n",
    "test_y = np.reshape(test_labels[:,0], (180,1))\n",
    "val_y = np.reshape(val_labels[:,0], (16,1))"
   ]
  },
  {
   "cell_type": "code",
   "execution_count": 43,
   "metadata": {},
   "outputs": [],
   "source": [
    "# Build a baseline fully connected model\n",
    "\n",
    "from keras import models\n",
    "from keras import layers\n",
    "np.random.seed(123)\n",
    "model = models.Sequential()\n",
    "model.add(layers.Dense(20, activation='relu', input_shape=(12288,))) # 2 hidden layers\n",
    "model.add(layers.Dense(7, activation='relu'))\n",
    "model.add(layers.Dense(5, activation='relu'))\n",
    "model.add(layers.Dense(1, activation='sigmoid'))"
   ]
  },
  {
   "cell_type": "code",
   "execution_count": 44,
   "metadata": {},
   "outputs": [
    {
     "name": "stdout",
     "output_type": "stream",
     "text": [
      "Epoch 1/50\n",
      "7/7 [==============================] - 0s 16ms/step - loss: 0.6220 - accuracy: 0.7200 - val_loss: 0.6915 - val_accuracy: 0.5000\n",
      "Epoch 2/50\n",
      "7/7 [==============================] - 0s 3ms/step - loss: 0.5722 - accuracy: 0.7200 - val_loss: 0.6794 - val_accuracy: 0.5000\n",
      "Epoch 3/50\n",
      "7/7 [==============================] - 0s 3ms/step - loss: 0.5702 - accuracy: 0.7200 - val_loss: 0.6664 - val_accuracy: 0.5625\n",
      "Epoch 4/50\n",
      "7/7 [==============================] - 0s 3ms/step - loss: 0.5368 - accuracy: 0.7300 - val_loss: 0.7765 - val_accuracy: 0.5000\n",
      "Epoch 5/50\n",
      "7/7 [==============================] - 0s 3ms/step - loss: 0.4978 - accuracy: 0.7250 - val_loss: 0.6308 - val_accuracy: 0.8125\n",
      "Epoch 6/50\n",
      "7/7 [==============================] - 0s 3ms/step - loss: 0.5077 - accuracy: 0.7450 - val_loss: 1.0571 - val_accuracy: 0.5000\n",
      "Epoch 7/50\n",
      "7/7 [==============================] - 0s 3ms/step - loss: 0.4960 - accuracy: 0.7600 - val_loss: 0.7056 - val_accuracy: 0.5625\n",
      "Epoch 8/50\n",
      "7/7 [==============================] - 0s 3ms/step - loss: 0.4600 - accuracy: 0.7850 - val_loss: 0.7250 - val_accuracy: 0.5000\n",
      "Epoch 9/50\n",
      "7/7 [==============================] - 0s 3ms/step - loss: 0.4647 - accuracy: 0.7800 - val_loss: 0.7155 - val_accuracy: 0.5625\n",
      "Epoch 10/50\n",
      "7/7 [==============================] - 0s 3ms/step - loss: 0.4172 - accuracy: 0.7950 - val_loss: 0.7098 - val_accuracy: 0.5625\n",
      "Epoch 11/50\n",
      "7/7 [==============================] - 0s 3ms/step - loss: 0.4855 - accuracy: 0.7700 - val_loss: 1.0008 - val_accuracy: 0.5000\n",
      "Epoch 12/50\n",
      "7/7 [==============================] - 0s 3ms/step - loss: 0.4839 - accuracy: 0.7450 - val_loss: 0.6166 - val_accuracy: 0.7500\n",
      "Epoch 13/50\n",
      "7/7 [==============================] - 0s 3ms/step - loss: 0.3705 - accuracy: 0.8600 - val_loss: 1.3313 - val_accuracy: 0.5000\n",
      "Epoch 14/50\n",
      "7/7 [==============================] - 0s 3ms/step - loss: 0.4218 - accuracy: 0.8300 - val_loss: 0.7852 - val_accuracy: 0.5625\n",
      "Epoch 15/50\n",
      "7/7 [==============================] - 0s 3ms/step - loss: 0.4075 - accuracy: 0.8050 - val_loss: 0.7071 - val_accuracy: 0.5000\n",
      "Epoch 16/50\n",
      "7/7 [==============================] - 0s 3ms/step - loss: 0.4650 - accuracy: 0.7650 - val_loss: 0.7876 - val_accuracy: 0.6250\n",
      "Epoch 17/50\n",
      "7/7 [==============================] - 0s 3ms/step - loss: 0.3632 - accuracy: 0.8450 - val_loss: 0.5997 - val_accuracy: 0.7500\n",
      "Epoch 18/50\n",
      "7/7 [==============================] - 0s 3ms/step - loss: 0.4017 - accuracy: 0.8200 - val_loss: 0.6032 - val_accuracy: 0.7500\n",
      "Epoch 19/50\n",
      "7/7 [==============================] - 0s 3ms/step - loss: 0.4606 - accuracy: 0.8050 - val_loss: 1.0511 - val_accuracy: 0.5000\n",
      "Epoch 20/50\n",
      "7/7 [==============================] - 0s 3ms/step - loss: 0.4465 - accuracy: 0.7550 - val_loss: 0.6762 - val_accuracy: 0.6875\n",
      "Epoch 21/50\n",
      "7/7 [==============================] - 0s 3ms/step - loss: 0.4973 - accuracy: 0.7300 - val_loss: 0.6111 - val_accuracy: 0.8125\n",
      "Epoch 22/50\n",
      "7/7 [==============================] - 0s 3ms/step - loss: 0.3281 - accuracy: 0.8800 - val_loss: 1.4740 - val_accuracy: 0.5000\n",
      "Epoch 23/50\n",
      "7/7 [==============================] - 0s 3ms/step - loss: 0.4049 - accuracy: 0.8050 - val_loss: 0.9229 - val_accuracy: 0.6250\n",
      "Epoch 24/50\n",
      "7/7 [==============================] - 0s 3ms/step - loss: 0.3785 - accuracy: 0.8350 - val_loss: 0.9970 - val_accuracy: 0.5000\n",
      "Epoch 25/50\n",
      "7/7 [==============================] - 0s 3ms/step - loss: 0.3436 - accuracy: 0.8700 - val_loss: 1.1665 - val_accuracy: 0.5000\n",
      "Epoch 26/50\n",
      "7/7 [==============================] - 0s 3ms/step - loss: 0.4317 - accuracy: 0.7950 - val_loss: 0.6151 - val_accuracy: 0.8125\n",
      "Epoch 27/50\n",
      "7/7 [==============================] - 0s 3ms/step - loss: 0.3311 - accuracy: 0.8750 - val_loss: 0.6136 - val_accuracy: 0.7500\n",
      "Epoch 28/50\n",
      "7/7 [==============================] - 0s 3ms/step - loss: 0.3452 - accuracy: 0.8700 - val_loss: 0.6655 - val_accuracy: 0.6250\n",
      "Epoch 29/50\n",
      "7/7 [==============================] - 0s 3ms/step - loss: 0.3109 - accuracy: 0.9000 - val_loss: 0.5668 - val_accuracy: 0.7500\n",
      "Epoch 30/50\n",
      "7/7 [==============================] - 0s 3ms/step - loss: 0.3666 - accuracy: 0.8350 - val_loss: 0.6738 - val_accuracy: 0.8125\n",
      "Epoch 31/50\n",
      "7/7 [==============================] - 0s 3ms/step - loss: 0.2742 - accuracy: 0.9100 - val_loss: 0.5368 - val_accuracy: 0.7500\n",
      "Epoch 32/50\n",
      "7/7 [==============================] - 0s 3ms/step - loss: 0.4292 - accuracy: 0.8050 - val_loss: 0.6813 - val_accuracy: 0.8125\n",
      "Epoch 33/50\n",
      "7/7 [==============================] - 0s 3ms/step - loss: 0.2772 - accuracy: 0.9000 - val_loss: 1.2343 - val_accuracy: 0.5000\n",
      "Epoch 34/50\n",
      "7/7 [==============================] - 0s 3ms/step - loss: 0.2994 - accuracy: 0.9000 - val_loss: 0.7782 - val_accuracy: 0.7500\n",
      "Epoch 35/50\n",
      "7/7 [==============================] - 0s 3ms/step - loss: 0.3126 - accuracy: 0.8600 - val_loss: 0.5917 - val_accuracy: 0.8125\n",
      "Epoch 36/50\n",
      "7/7 [==============================] - 0s 3ms/step - loss: 0.3162 - accuracy: 0.8700 - val_loss: 0.7067 - val_accuracy: 0.6250\n",
      "Epoch 37/50\n",
      "7/7 [==============================] - 0s 3ms/step - loss: 0.3214 - accuracy: 0.8850 - val_loss: 0.5561 - val_accuracy: 0.8125\n",
      "Epoch 38/50\n",
      "7/7 [==============================] - 0s 3ms/step - loss: 0.2963 - accuracy: 0.8750 - val_loss: 0.6828 - val_accuracy: 0.8125\n",
      "Epoch 39/50\n",
      "7/7 [==============================] - 0s 3ms/step - loss: 0.2816 - accuracy: 0.8950 - val_loss: 0.8588 - val_accuracy: 0.7500\n",
      "Epoch 40/50\n",
      "7/7 [==============================] - 0s 3ms/step - loss: 0.2426 - accuracy: 0.9050 - val_loss: 0.5703 - val_accuracy: 0.6875\n",
      "Epoch 41/50\n",
      "7/7 [==============================] - 0s 3ms/step - loss: 0.3249 - accuracy: 0.8450 - val_loss: 0.8670 - val_accuracy: 0.7500\n",
      "Epoch 42/50\n",
      "7/7 [==============================] - 0s 3ms/step - loss: 0.3061 - accuracy: 0.8850 - val_loss: 0.8277 - val_accuracy: 0.5000\n",
      "Epoch 43/50\n",
      "7/7 [==============================] - 0s 3ms/step - loss: 0.8527 - accuracy: 0.2800 - val_loss: 0.6935 - val_accuracy: 0.5000\n",
      "Epoch 44/50\n",
      "7/7 [==============================] - 0s 3ms/step - loss: 0.7062 - accuracy: 0.2800 - val_loss: 0.6933 - val_accuracy: 0.5000\n",
      "Epoch 45/50\n",
      "7/7 [==============================] - 0s 3ms/step - loss: 0.7010 - accuracy: 0.2800 - val_loss: 0.6932 - val_accuracy: 0.5000\n",
      "Epoch 46/50\n",
      "7/7 [==============================] - 0s 3ms/step - loss: 0.6971 - accuracy: 0.2800 - val_loss: 0.6931 - val_accuracy: 0.5000\n",
      "Epoch 47/50\n",
      "7/7 [==============================] - 0s 3ms/step - loss: 0.6931 - accuracy: 0.6000 - val_loss: 0.6932 - val_accuracy: 0.5000\n",
      "Epoch 48/50\n",
      "7/7 [==============================] - 0s 3ms/step - loss: 0.6894 - accuracy: 0.7050 - val_loss: 0.6933 - val_accuracy: 0.5000\n",
      "Epoch 49/50\n",
      "7/7 [==============================] - 0s 3ms/step - loss: 0.6862 - accuracy: 0.7150 - val_loss: 0.6934 - val_accuracy: 0.5000\n",
      "Epoch 50/50\n",
      "7/7 [==============================] - 0s 3ms/step - loss: 0.6832 - accuracy: 0.7150 - val_loss: 0.6936 - val_accuracy: 0.5000\n"
     ]
    }
   ],
   "source": [
    "model.compile(optimizer='sgd',\n",
    "              loss='binary_crossentropy',\n",
    "              metrics=['accuracy'])\n",
    "\n",
    "histoire = model.fit(train_img,\n",
    "                    train_y,\n",
    "                    epochs=50,\n",
    "                    batch_size=32,\n",
    "                    validation_data=(val_img, val_y))"
   ]
  },
  {
   "cell_type": "code",
   "execution_count": 45,
   "metadata": {},
   "outputs": [
    {
     "name": "stdout",
     "output_type": "stream",
     "text": [
      "7/7 [==============================] - 0s 714us/step - loss: 0.6812 - accuracy: 0.7150\n"
     ]
    }
   ],
   "source": [
    "results_train = model.evaluate(train_img, train_y)"
   ]
  },
  {
   "cell_type": "code",
   "execution_count": 46,
   "metadata": {},
   "outputs": [
    {
     "name": "stdout",
     "output_type": "stream",
     "text": [
      "6/6 [==============================] - 0s 833us/step - loss: 0.6812 - accuracy: 0.7111\n"
     ]
    }
   ],
   "source": [
    "results_test = model.evaluate(test_img, test_y)"
   ]
  },
  {
   "cell_type": "code",
   "execution_count": 47,
   "metadata": {},
   "outputs": [
    {
     "data": {
      "text/plain": [
       "[0.6811686158180237, 0.7149999737739563]"
      ]
     },
     "execution_count": 47,
     "metadata": {},
     "output_type": "execute_result"
    }
   ],
   "source": [
    "results_train"
   ]
  },
  {
   "cell_type": "code",
   "execution_count": 48,
   "metadata": {},
   "outputs": [
    {
     "data": {
      "text/plain": [
       "[0.681194543838501, 0.7111111283302307]"
      ]
     },
     "execution_count": 48,
     "metadata": {},
     "output_type": "execute_result"
    }
   ],
   "source": [
    "results_test"
   ]
  },
  {
   "cell_type": "code",
   "execution_count": 49,
   "metadata": {},
   "outputs": [],
   "source": [
    "# Building a CNN"
   ]
  },
  {
   "cell_type": "code",
   "execution_count": 50,
   "metadata": {},
   "outputs": [
    {
     "name": "stdout",
     "output_type": "stream",
     "text": [
      "Epoch 1/30\n",
      "7/7 [==============================] - 0s 46ms/step - loss: 0.6709 - acc: 0.6550 - val_loss: 0.7086 - val_acc: 0.5000\n",
      "Epoch 2/30\n",
      "7/7 [==============================] - 0s 35ms/step - loss: 0.6231 - acc: 0.7200 - val_loss: 0.7368 - val_acc: 0.5000\n",
      "Epoch 3/30\n",
      "7/7 [==============================] - 0s 35ms/step - loss: 0.6074 - acc: 0.7200 - val_loss: 0.7687 - val_acc: 0.5000\n",
      "Epoch 4/30\n",
      "7/7 [==============================] - 0s 33ms/step - loss: 0.5995 - acc: 0.7200 - val_loss: 0.8082 - val_acc: 0.5000\n",
      "Epoch 5/30\n",
      "7/7 [==============================] - 0s 32ms/step - loss: 0.6001 - acc: 0.7200 - val_loss: 0.8187 - val_acc: 0.5000\n",
      "Epoch 6/30\n",
      "7/7 [==============================] - 0s 33ms/step - loss: 0.5964 - acc: 0.7200 - val_loss: 0.7922 - val_acc: 0.5000\n",
      "Epoch 7/30\n",
      "7/7 [==============================] - 0s 35ms/step - loss: 0.5958 - acc: 0.7200 - val_loss: 0.7846 - val_acc: 0.5000\n",
      "Epoch 8/30\n",
      "7/7 [==============================] - 0s 32ms/step - loss: 0.5918 - acc: 0.7200 - val_loss: 0.7555 - val_acc: 0.5000\n",
      "Epoch 9/30\n",
      "7/7 [==============================] - 0s 33ms/step - loss: 0.5921 - acc: 0.7200 - val_loss: 0.7927 - val_acc: 0.5000\n",
      "Epoch 10/30\n",
      "7/7 [==============================] - 0s 34ms/step - loss: 0.5883 - acc: 0.7200 - val_loss: 0.8838 - val_acc: 0.5000\n",
      "Epoch 11/30\n",
      "7/7 [==============================] - 0s 33ms/step - loss: 0.5927 - acc: 0.7200 - val_loss: 0.8485 - val_acc: 0.5000\n",
      "Epoch 12/30\n",
      "7/7 [==============================] - 0s 34ms/step - loss: 0.5908 - acc: 0.7200 - val_loss: 0.8517 - val_acc: 0.5000\n",
      "Epoch 13/30\n",
      "7/7 [==============================] - 0s 33ms/step - loss: 0.5893 - acc: 0.7200 - val_loss: 0.7353 - val_acc: 0.5000\n",
      "Epoch 14/30\n",
      "7/7 [==============================] - 0s 35ms/step - loss: 0.5854 - acc: 0.7200 - val_loss: 0.7760 - val_acc: 0.5000\n",
      "Epoch 15/30\n",
      "7/7 [==============================] - 0s 32ms/step - loss: 0.5818 - acc: 0.7200 - val_loss: 0.7298 - val_acc: 0.5000\n",
      "Epoch 16/30\n",
      "7/7 [==============================] - 0s 32ms/step - loss: 0.5800 - acc: 0.7200 - val_loss: 0.7897 - val_acc: 0.5000\n",
      "Epoch 17/30\n",
      "7/7 [==============================] - 0s 32ms/step - loss: 0.5759 - acc: 0.7200 - val_loss: 0.7995 - val_acc: 0.5000\n",
      "Epoch 18/30\n",
      "7/7 [==============================] - 0s 34ms/step - loss: 0.5715 - acc: 0.7200 - val_loss: 0.8043 - val_acc: 0.5000\n",
      "Epoch 19/30\n",
      "7/7 [==============================] - 0s 32ms/step - loss: 0.5679 - acc: 0.7200 - val_loss: 0.9317 - val_acc: 0.5000\n",
      "Epoch 20/30\n",
      "7/7 [==============================] - 0s 31ms/step - loss: 0.5687 - acc: 0.7200 - val_loss: 0.7244 - val_acc: 0.5000\n",
      "Epoch 21/30\n",
      "7/7 [==============================] - 0s 32ms/step - loss: 0.5639 - acc: 0.7200 - val_loss: 0.8508 - val_acc: 0.5000\n",
      "Epoch 22/30\n",
      "7/7 [==============================] - 0s 35ms/step - loss: 0.5678 - acc: 0.7200 - val_loss: 0.9214 - val_acc: 0.5000\n",
      "Epoch 23/30\n",
      "7/7 [==============================] - 0s 31ms/step - loss: 0.5604 - acc: 0.7200 - val_loss: 0.7628 - val_acc: 0.5000\n",
      "Epoch 24/30\n",
      "7/7 [==============================] - 0s 34ms/step - loss: 0.5662 - acc: 0.7200 - val_loss: 0.6845 - val_acc: 0.5000\n",
      "Epoch 25/30\n",
      "7/7 [==============================] - 0s 35ms/step - loss: 0.5748 - acc: 0.7200 - val_loss: 0.7758 - val_acc: 0.5000\n",
      "Epoch 26/30\n",
      "7/7 [==============================] - 0s 34ms/step - loss: 0.5457 - acc: 0.7200 - val_loss: 0.7175 - val_acc: 0.5000\n",
      "Epoch 27/30\n",
      "7/7 [==============================] - 0s 35ms/step - loss: 0.5417 - acc: 0.7200 - val_loss: 0.7166 - val_acc: 0.5000\n",
      "Epoch 28/30\n",
      "7/7 [==============================] - 0s 33ms/step - loss: 0.5401 - acc: 0.7200 - val_loss: 1.0185 - val_acc: 0.5000\n",
      "Epoch 29/30\n",
      "7/7 [==============================] - 0s 34ms/step - loss: 0.5362 - acc: 0.7200 - val_loss: 0.6776 - val_acc: 0.5625\n",
      "Epoch 30/30\n",
      "7/7 [==============================] - 0s 34ms/step - loss: 0.5342 - acc: 0.7500 - val_loss: 0.8440 - val_acc: 0.5000\n"
     ]
    }
   ],
   "source": [
    "model = models.Sequential()\n",
    "model.add(layers.Conv2D(32, (3, 3), activation='relu',\n",
    "                        input_shape=(64 ,64,  3)))\n",
    "model.add(layers.MaxPooling2D((2, 2)))\n",
    "\n",
    "model.add(layers.Conv2D(32, (4, 4), activation='relu'))\n",
    "model.add(layers.MaxPooling2D((2, 2)))\n",
    "\n",
    "model.add(layers.Conv2D(64, (3, 3), activation='relu'))\n",
    "model.add(layers.MaxPooling2D((2, 2)))\n",
    "\n",
    "model.add(layers.Flatten())\n",
    "model.add(layers.Dense(64, activation='relu'))\n",
    "model.add(layers.Dense(1, activation='sigmoid'))\n",
    "\n",
    "model.compile(loss='binary_crossentropy',\n",
    "              optimizer=\"sgd\",\n",
    "              metrics=['acc'])\n",
    "\n",
    "history = model.fit(train_images,\n",
    "                    train_y,\n",
    "                    epochs=30,\n",
    "                    batch_size=32,\n",
    "                    validation_data=(val_images, val_y))"
   ]
  },
  {
   "cell_type": "code",
   "execution_count": 51,
   "metadata": {},
   "outputs": [
    {
     "name": "stdout",
     "output_type": "stream",
     "text": [
      "7/7 [==============================] - 0s 6ms/step - loss: 0.5301 - acc: 0.7200\n"
     ]
    }
   ],
   "source": [
    "results_train = model.evaluate(train_images, train_y)"
   ]
  },
  {
   "cell_type": "code",
   "execution_count": 52,
   "metadata": {},
   "outputs": [
    {
     "name": "stdout",
     "output_type": "stream",
     "text": [
      "6/6 [==============================] - 0s 6ms/step - loss: 0.5389 - acc: 0.7222\n"
     ]
    }
   ],
   "source": [
    "results_test = model.evaluate(test_images, test_y)"
   ]
  },
  {
   "cell_type": "code",
   "execution_count": 53,
   "metadata": {},
   "outputs": [
    {
     "data": {
      "text/plain": [
       "[0.5300886034965515, 0.7200000286102295]"
      ]
     },
     "execution_count": 53,
     "metadata": {},
     "output_type": "execute_result"
    }
   ],
   "source": [
    "results_train"
   ]
  },
  {
   "cell_type": "code",
   "execution_count": 54,
   "metadata": {},
   "outputs": [
    {
     "data": {
      "text/plain": [
       "[0.5389469861984253, 0.7222222089767456]"
      ]
     },
     "execution_count": 54,
     "metadata": {},
     "output_type": "execute_result"
    }
   ],
   "source": [
    "results_test"
   ]
  },
  {
   "cell_type": "markdown",
   "metadata": {
    "heading_collapsed": true
   },
   "source": [
    "# Grid Search Tuning"
   ]
  },
  {
   "cell_type": "code",
   "execution_count": null,
   "metadata": {
    "hidden": true
   },
   "outputs": [],
   "source": []
  },
  {
   "cell_type": "code",
   "execution_count": null,
   "metadata": {
    "hidden": true
   },
   "outputs": [],
   "source": []
  },
  {
   "cell_type": "code",
   "execution_count": null,
   "metadata": {
    "hidden": true
   },
   "outputs": [],
   "source": []
  },
  {
   "cell_type": "code",
   "execution_count": null,
   "metadata": {
    "hidden": true
   },
   "outputs": [],
   "source": []
  },
  {
   "cell_type": "code",
   "execution_count": null,
   "metadata": {
    "hidden": true
   },
   "outputs": [],
   "source": []
  },
  {
   "cell_type": "markdown",
   "metadata": {
    "heading_collapsed": true
   },
   "source": [
    "# Transfer Learning"
   ]
  },
  {
   "cell_type": "code",
   "execution_count": null,
   "metadata": {
    "hidden": true
   },
   "outputs": [],
   "source": []
  },
  {
   "cell_type": "code",
   "execution_count": null,
   "metadata": {
    "hidden": true
   },
   "outputs": [],
   "source": []
  },
  {
   "cell_type": "code",
   "execution_count": null,
   "metadata": {
    "hidden": true
   },
   "outputs": [],
   "source": []
  },
  {
   "cell_type": "code",
   "execution_count": null,
   "metadata": {
    "hidden": true
   },
   "outputs": [],
   "source": []
  },
  {
   "cell_type": "code",
   "execution_count": null,
   "metadata": {
    "hidden": true
   },
   "outputs": [],
   "source": []
  },
  {
   "cell_type": "markdown",
   "metadata": {
    "heading_collapsed": true
   },
   "source": [
    "# Summary"
   ]
  },
  {
   "cell_type": "code",
   "execution_count": null,
   "metadata": {
    "hidden": true
   },
   "outputs": [],
   "source": []
  },
  {
   "cell_type": "code",
   "execution_count": null,
   "metadata": {
    "hidden": true
   },
   "outputs": [],
   "source": []
  },
  {
   "cell_type": "code",
   "execution_count": null,
   "metadata": {
    "hidden": true
   },
   "outputs": [],
   "source": []
  },
  {
   "cell_type": "code",
   "execution_count": null,
   "metadata": {
    "hidden": true
   },
   "outputs": [],
   "source": []
  },
  {
   "cell_type": "code",
   "execution_count": null,
   "metadata": {
    "hidden": true
   },
   "outputs": [],
   "source": []
  },
  {
   "cell_type": "markdown",
   "metadata": {},
   "source": [
    "# Misc"
   ]
  },
  {
   "cell_type": "markdown",
   "metadata": {},
   "source": [
    "X = []\n",
    "files = glob.glob (\"C:\\\\Users\\\\rychu\\\\Desktop\\\\2021\\\\FLT\\\\P4-Project\\\\chest_xray\\\\test\\\\NORMAL\\\\*jpeg\")\n",
    "for myFile in files:\n",
    "    print(myFile)\n",
    "    image = cv2.imread (myFile)\n",
    "    X.append (image)\n",
    "print('X shape:', np.array(X).shape)"
   ]
  },
  {
   "cell_type": "markdown",
   "metadata": {},
   "source": [
    "y = []\n",
    "files = glob.glob (\"C:\\\\Users\\\\rychu\\\\Desktop\\\\2021\\\\FLT\\\\P4-Project\\\\chest_xray\\\\test\\\\PNEUMONIA\\\\*jpeg\")\n",
    "for myFile in files:\n",
    "    print(myFile)\n",
    "    image = cv2.imread (myFile)\n",
    "    y.append (image)\n",
    "print('y shape:', np.array(y).shape)"
   ]
  },
  {
   "cell_type": "markdown",
   "metadata": {},
   "source": [
    "load image as pixel array\n",
    "image = image.imread(\"C:\\\\Users\\\\rychu\\\\Desktop\\\\2021\\\\FLT\\\\P4-Project\\\\chest_xray\\\\train\\\\NORMAL\\\\IM-0151-0001.jpeg\")\n",
    "summarize shape of the pixel array\n",
    "print(image.dtype)\n",
    "print(image.shape)\n",
    "display the array of pixels as an image\n",
    "pyplot.imshow(image)\n",
    "pyplot.show()"
   ]
  }
 ],
 "metadata": {
  "kernelspec": {
   "display_name": "learn-env",
   "language": "python",
   "name": "learn-env"
  },
  "language_info": {
   "codemirror_mode": {
    "name": "ipython",
    "version": 3
   },
   "file_extension": ".py",
   "mimetype": "text/x-python",
   "name": "python",
   "nbconvert_exporter": "python",
   "pygments_lexer": "ipython3",
   "version": "3.8.5"
  },
  "toc": {
   "base_numbering": 1,
   "nav_menu": {},
   "number_sections": true,
   "sideBar": true,
   "skip_h1_title": false,
   "title_cell": "Table of Contents",
   "title_sidebar": "Contents",
   "toc_cell": false,
   "toc_position": {
    "height": "calc(100% - 180px)",
    "left": "10px",
    "top": "150px",
    "width": "345.33px"
   },
   "toc_section_display": true,
   "toc_window_display": true
  },
  "varInspector": {
   "cols": {
    "lenName": 16,
    "lenType": 16,
    "lenVar": 40
   },
   "kernels_config": {
    "python": {
     "delete_cmd_postfix": "",
     "delete_cmd_prefix": "del ",
     "library": "var_list.py",
     "varRefreshCmd": "print(var_dic_list())"
    },
    "r": {
     "delete_cmd_postfix": ") ",
     "delete_cmd_prefix": "rm(",
     "library": "var_list.r",
     "varRefreshCmd": "cat(var_dic_list()) "
    }
   },
   "types_to_exclude": [
    "module",
    "function",
    "builtin_function_or_method",
    "instance",
    "_Feature"
   ],
   "window_display": false
  }
 },
 "nbformat": 4,
 "nbformat_minor": 4
}
